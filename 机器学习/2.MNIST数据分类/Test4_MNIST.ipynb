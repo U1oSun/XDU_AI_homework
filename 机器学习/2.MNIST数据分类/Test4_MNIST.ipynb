{
 "cells": [
  {
   "cell_type": "code",
   "execution_count": 2,
   "id": "initial_id",
   "metadata": {
    "collapsed": true,
    "ExecuteTime": {
     "end_time": "2023-12-06T08:49:59.944889Z",
     "start_time": "2023-12-06T08:49:59.132542100Z"
    }
   },
   "outputs": [],
   "source": [
    "import torch\n",
    "import torchvision\n",
    "from torch.utils.data import DataLoader\n",
    "import matplotlib.pyplot as plt\n",
    "import torch.nn as nn\n",
    "import torch.nn.functional as F\n",
    "import torch.optim as optim"
   ]
  },
  {
   "cell_type": "code",
   "execution_count": 3,
   "outputs": [
    {
     "data": {
      "text/plain": "<torch._C.Generator at 0x211a48a8930>"
     },
     "execution_count": 3,
     "metadata": {},
     "output_type": "execute_result"
    }
   ],
   "source": [
    "n_epochs = 3\n",
    "batch_size_train = 64\n",
    "batch_size_test = 1000\n",
    "learning_rate = 0.01\n",
    "momentum = 0.5\n",
    "log_interval = 10\n",
    "random_seed = 1\n",
    "torch.manual_seed(random_seed)"
   ],
   "metadata": {
    "collapsed": false,
    "ExecuteTime": {
     "end_time": "2023-12-06T08:49:59.966887300Z",
     "start_time": "2023-12-06T08:49:59.946891800Z"
    }
   },
   "id": "1319b0767206cad5"
  },
  {
   "cell_type": "code",
   "execution_count": 4,
   "outputs": [],
   "source": [
    "train_loader = torch.utils.data.DataLoader(\n",
    "    torchvision.datasets.MNIST('./data/', train=True, download=True,\n",
    "                               transform=torchvision.transforms.Compose([torchvision.transforms.ToTensor(),torchvision.transforms.Normalize((0.1307,), (0.3081,))])),\n",
    "                                batch_size=batch_size_train, shuffle=True)\n",
    "test_loader = torch.utils.data.DataLoader(\n",
    "    torchvision.datasets.MNIST('./data/', train=False, download=True,\n",
    "                               transform=torchvision.transforms.Compose([torchvision.transforms.ToTensor(),torchvision.transforms.Normalize((0.1307,), (0.3081,))])),\n",
    "                                batch_size=batch_size_test, shuffle=True)"
   ],
   "metadata": {
    "collapsed": false,
    "ExecuteTime": {
     "end_time": "2023-12-06T08:50:00.068489800Z",
     "start_time": "2023-12-06T08:49:59.962890200Z"
    }
   },
   "id": "526d66bd9a2bbffc"
  },
  {
   "cell_type": "code",
   "execution_count": 5,
   "outputs": [
    {
     "name": "stdout",
     "output_type": "stream",
     "text": [
      "tensor([3, 9, 4, 9, 9, 0, 8, 3, 1, 2, 3, 9, 1, 3, 6, 6, 4, 4, 9, 7, 3, 7, 6, 3,\n",
      "        4, 8, 4, 6, 8, 6, 1, 1, 1, 1, 0, 0, 1, 8, 4, 0, 1, 2, 7, 9, 3, 2, 3, 8,\n",
      "        3, 2, 0, 4, 6, 6, 5, 5, 3, 0, 3, 7, 2, 4, 1, 6, 7, 5, 4, 1, 0, 8, 5, 9,\n",
      "        0, 9, 6, 1, 8, 0, 9, 3, 5, 7, 8, 5, 6, 4, 2, 2, 2, 1, 8, 4, 4, 2, 1, 5,\n",
      "        9, 3, 7, 0, 4, 1, 7, 2, 2, 6, 5, 1, 2, 6, 1, 3, 1, 2, 7, 4, 1, 3, 2, 9,\n",
      "        3, 7, 2, 7, 4, 7, 0, 0, 9, 0, 9, 5, 1, 6, 9, 8, 1, 4, 6, 7, 5, 5, 6, 4,\n",
      "        5, 4, 0, 7, 4, 1, 3, 8, 2, 6, 2, 2, 8, 4, 1, 9, 6, 7, 5, 0, 7, 4, 6, 2,\n",
      "        6, 8, 7, 9, 8, 0, 7, 4, 2, 4, 9, 0, 4, 6, 5, 6, 6, 4, 4, 8, 3, 8, 0, 9,\n",
      "        5, 6, 3, 3, 8, 4, 4, 6, 7, 8, 5, 3, 4, 3, 3, 3, 3, 1, 8, 8, 9, 1, 0, 1,\n",
      "        4, 1, 0, 2, 0, 6, 5, 1, 5, 8, 8, 1, 3, 9, 4, 5, 9, 2, 5, 6, 5, 8, 2, 7,\n",
      "        4, 1, 6, 8, 7, 9, 3, 3, 4, 4, 5, 4, 9, 8, 2, 9, 1, 6, 7, 1, 0, 5, 1, 9,\n",
      "        2, 1, 5, 2, 7, 9, 0, 0, 6, 0, 8, 7, 2, 6, 1, 7, 6, 1, 2, 1, 6, 3, 1, 4,\n",
      "        1, 7, 5, 9, 3, 8, 6, 3, 8, 7, 4, 2, 3, 2, 4, 3, 5, 1, 2, 4, 0, 9, 4, 0,\n",
      "        5, 0, 7, 3, 3, 1, 8, 4, 1, 2, 2, 6, 0, 2, 1, 6, 3, 6, 2, 1, 7, 3, 9, 9,\n",
      "        0, 7, 6, 6, 8, 0, 1, 1, 9, 9, 6, 9, 4, 7, 8, 7, 8, 5, 3, 2, 4, 4, 3, 3,\n",
      "        1, 9, 5, 3, 1, 8, 4, 7, 6, 0, 5, 9, 7, 5, 4, 0, 3, 6, 0, 0, 5, 9, 7, 4,\n",
      "        7, 7, 3, 3, 8, 0, 5, 8, 6, 3, 4, 9, 6, 2, 2, 9, 3, 9, 4, 3, 7, 8, 0, 3,\n",
      "        7, 5, 1, 7, 0, 1, 7, 1, 6, 8, 9, 0, 2, 0, 0, 2, 8, 5, 6, 2, 1, 6, 4, 2,\n",
      "        1, 0, 7, 8, 7, 9, 8, 3, 1, 5, 2, 5, 0, 3, 8, 4, 1, 8, 0, 2, 4, 4, 0, 0,\n",
      "        4, 2, 8, 7, 5, 8, 5, 3, 7, 3, 3, 3, 1, 2, 4, 5, 9, 8, 2, 7, 6, 8, 6, 1,\n",
      "        3, 4, 0, 3, 7, 0, 3, 2, 9, 6, 2, 1, 7, 8, 1, 6, 9, 8, 6, 8, 7, 0, 5, 2,\n",
      "        5, 4, 4, 8, 6, 6, 8, 6, 7, 0, 9, 4, 4, 9, 7, 5, 7, 5, 9, 0, 8, 3, 9, 8,\n",
      "        1, 3, 3, 1, 0, 0, 1, 2, 1, 7, 0, 7, 0, 9, 8, 3, 2, 2, 0, 3, 0, 3, 0, 3,\n",
      "        6, 1, 5, 8, 8, 7, 4, 5, 2, 6, 7, 8, 4, 8, 3, 9, 2, 6, 8, 7, 2, 3, 0, 4,\n",
      "        9, 7, 7, 5, 0, 3, 6, 2, 9, 5, 9, 3, 7, 3, 6, 0, 9, 6, 5, 1, 6, 3, 9, 0,\n",
      "        9, 8, 4, 1, 6, 4, 1, 9, 1, 4, 6, 9, 4, 4, 7, 2, 3, 5, 9, 9, 2, 3, 0, 9,\n",
      "        9, 0, 0, 2, 4, 5, 6, 4, 7, 9, 0, 9, 0, 8, 3, 3, 1, 6, 0, 8, 3, 9, 8, 0,\n",
      "        3, 9, 7, 4, 8, 0, 9, 9, 7, 4, 9, 0, 1, 9, 0, 3, 3, 6, 8, 2, 6, 0, 0, 8,\n",
      "        8, 7, 9, 7, 7, 6, 1, 6, 0, 1, 9, 9, 5, 6, 9, 6, 2, 2, 1, 1, 6, 0, 7, 8,\n",
      "        4, 2, 4, 7, 0, 8, 9, 5, 9, 6, 9, 1, 2, 2, 8, 1, 3, 6, 2, 0, 5, 1, 1, 6,\n",
      "        8, 7, 0, 6, 2, 5, 6, 1, 9, 8, 6, 8, 5, 1, 7, 3, 2, 0, 9, 2, 2, 5, 5, 3,\n",
      "        8, 1, 4, 9, 7, 7, 1, 8, 2, 8, 1, 1, 7, 4, 1, 6, 9, 2, 0, 3, 4, 2, 0, 5,\n",
      "        7, 5, 7, 2, 5, 6, 8, 2, 6, 7, 3, 1, 6, 2, 4, 2, 0, 2, 5, 4, 1, 1, 5, 7,\n",
      "        4, 5, 2, 0, 8, 0, 4, 7, 3, 8, 8, 2, 3, 2, 6, 5, 1, 0, 4, 1, 3, 9, 0, 2,\n",
      "        8, 9, 1, 2, 0, 8, 7, 4, 4, 0, 7, 1, 0, 8, 5, 3, 3, 3, 4, 0, 7, 4, 4, 5,\n",
      "        0, 2, 2, 7, 8, 1, 2, 8, 0, 3, 5, 4, 6, 7, 9, 0, 0, 7, 3, 9, 4, 9, 5, 1,\n",
      "        4, 4, 9, 8, 7, 3, 9, 0, 8, 7, 0, 8, 4, 5, 8, 1, 7, 4, 2, 1, 1, 5, 1, 1,\n",
      "        5, 5, 6, 4, 3, 7, 3, 3, 3, 0, 4, 7, 9, 0, 3, 9, 8, 0, 7, 8, 7, 0, 0, 3,\n",
      "        7, 7, 6, 8, 8, 9, 8, 0, 9, 4, 9, 3, 8, 6, 8, 2, 0, 4, 8, 4, 4, 4, 6, 8,\n",
      "        3, 6, 3, 5, 1, 9, 5, 4, 3, 8, 3, 1, 2, 3, 1, 1, 9, 9, 5, 5, 0, 4, 1, 6,\n",
      "        9, 4, 8, 6, 8, 1, 7, 2, 6, 9, 8, 2, 7, 2, 2, 4, 8, 9, 3, 6, 2, 2, 7, 8,\n",
      "        5, 7, 2, 0, 0, 2, 3, 1, 1, 5, 8, 5, 3, 9, 7, 6])\n",
      "torch.Size([1000, 1, 28, 28])\n"
     ]
    }
   ],
   "source": [
    "examples = enumerate(test_loader)\n",
    "batch_idx, (example_data, example_targets) = next(examples)\n",
    "print(example_targets)\n",
    "print(example_data.shape)"
   ],
   "metadata": {
    "collapsed": false,
    "ExecuteTime": {
     "end_time": "2023-12-06T08:50:00.598742400Z",
     "start_time": "2023-12-06T08:50:00.299866100Z"
    }
   },
   "id": "dcd11e13c2e4d81"
  },
  {
   "cell_type": "code",
   "execution_count": 5,
   "outputs": [],
   "source": [],
   "metadata": {
    "collapsed": false,
    "ExecuteTime": {
     "end_time": "2023-12-06T08:50:01.567944700Z",
     "start_time": "2023-12-06T08:50:01.546330700Z"
    }
   },
   "id": "86e821ed4a4d6d1e"
  },
  {
   "cell_type": "code",
   "execution_count": 6,
   "outputs": [
    {
     "name": "stderr",
     "output_type": "stream",
     "text": [
      "C:\\Users\\Lenovo\\AppData\\Local\\Temp\\ipykernel_27152\\3535654827.py:4: UserWarning: The figure layout has changed to tight\n",
      "  plt.tight_layout()\n"
     ]
    },
    {
     "data": {
      "text/plain": "<Figure size 640x480 with 6 Axes>",
      "image/png": "[encoded data removed]"
     },
     "metadata": {},
     "output_type": "display_data"
    }
   ],
   "source": [
    "fig = plt.figure()\n",
    "for i in range(6):\n",
    "  plt.subplot(2,3,i+1)\n",
    "  plt.tight_layout()\n",
    "  plt.imshow(example_data[i][0], cmap='gray', interpolation='none')\n",
    "  plt.title(f\"Ground Truth: {example_targets[i]}\")\n",
    "  plt.xticks([])\n",
    "  plt.yticks([])\n",
    "plt.show()"
   ],
   "metadata": {
    "collapsed": false,
    "ExecuteTime": {
     "end_time": "2023-12-06T08:50:02.639776300Z",
     "start_time": "2023-12-06T08:50:02.221052900Z"
    }
   },
   "id": "7ea170c62529f898"
  },
  {
   "cell_type": "code",
   "execution_count": 7,
   "outputs": [],
   "source": [
    "class Net(nn.Module):\n",
    "    def __init__(self):\n",
    "        super(Net, self).__init__()\n",
    "\n",
    "        # 第一个卷积层，输入通道为1（灰度图像），输出通道为10，卷积核大小为5x5\n",
    "        self.conv1 = nn.Conv2d(1, 10, kernel_size=5)\n",
    "\n",
    "        # 第二个卷积层，输入通道为10，输出通道为20，卷积核大小为5x5\n",
    "        self.conv2 = nn.Conv2d(10, 20, kernel_size=5)\n",
    "\n",
    "        # 用于在第二个卷积层后引入dropout，以防止过拟合\n",
    "        self.conv2_drop = nn.Dropout2d()\n",
    "\n",
    "        # 第一个全连接层，输入特征数为320，输出特征数为50\n",
    "        self.fc1 = nn.Linear(320, 50)\n",
    "\n",
    "        # 第二个全连接层，输入特征数为50，输出特征数为10\n",
    "        self.fc2 = nn.Linear(50, 10)\n",
    "\n",
    "    def forward(self, x):\n",
    "        # 输入x经过第一个卷积层，然后通过ReLU激活函数和2x2的最大池化层\n",
    "        x = F.relu(F.max_pool2d(self.conv1(x), 2))\n",
    "\n",
    "        # 输入x经过第二个卷积层，然后通过ReLU激活函数、2x2的最大池化层和dropout\n",
    "        x = F.relu(F.max_pool2d(self.conv2_drop(self.conv2(x)), 2))\n",
    "\n",
    "        # 将x展平为一维向量，用于连接到全连接层\n",
    "        x = x.view(-1, 320)\n",
    "\n",
    "        # 输入x经过第一个全连接层，然后通过ReLU激活函数\n",
    "        x = F.relu(self.fc1(x))\n",
    "\n",
    "        # 在训练时进行dropout，以防止过拟合\n",
    "        x = F.dropout(x, training=self.training)\n",
    "\n",
    "        # 输入x经过第二个全连接层，输出最终结果\n",
    "        x = self.fc2(x)\n",
    "\n",
    "        # 使用log_softmax作为输出层的激活函数\n",
    "        return F.log_softmax(x)"
   ],
   "metadata": {
    "collapsed": false,
    "ExecuteTime": {
     "end_time": "2023-12-06T08:50:03.200735800Z",
     "start_time": "2023-12-06T08:50:03.182740700Z"
    }
   },
   "id": "72d74f610428a3fb"
  },
  {
   "cell_type": "code",
   "execution_count": 8,
   "outputs": [],
   "source": [
    "network = Net()\n",
    "optimizer = optim.SGD(network.parameters(), lr=learning_rate,\n",
    "                      momentum=momentum)"
   ],
   "metadata": {
    "collapsed": false,
    "ExecuteTime": {
     "end_time": "2023-12-06T08:50:04.304446800Z",
     "start_time": "2023-12-06T08:50:04.285448600Z"
    }
   },
   "id": "bdee178a3da2d94e"
  },
  {
   "cell_type": "code",
   "execution_count": 11,
   "outputs": [
    {
     "name": "stdout",
     "output_type": "stream",
     "text": [
      "================ Diagnostic Run torch.onnx.export version 2.0.1 ================\n",
      "verbose: False, log level: Level.ERROR\n",
      "======================= 0 NONE 0 NOTE 0 WARNING 0 ERROR ========================\n",
      "\n",
      "Serving 'onnx_model_name.onnx' at http://localhost:8080\n"
     ]
    },
    {
     "name": "stderr",
     "output_type": "stream",
     "text": [
      "C:\\Users\\Lenovo\\AppData\\Local\\Temp\\ipykernel_27152\\794803888.py:40: UserWarning: Implicit dimension choice for log_softmax has been deprecated. Change the call to include dim=X as an argument.\n",
      "  return F.log_softmax(x)\n"
     ]
    },
    {
     "data": {
      "text/plain": "('localhost', 8080)"
     },
     "execution_count": 11,
     "metadata": {},
     "output_type": "execute_result"
    }
   ],
   "source": [
    "import torch.onnx \n",
    "import netron\n",
    "\n",
    "onnx_path = \"onnx_model_name.onnx\" # 文件名\n",
    " \n",
    "torch.onnx.export(network,example_data, onnx_path) # 导出神经网络模型为onnx格式\n",
    " \n",
    "netron.start(onnx_path) # 启动netron"
   ],
   "metadata": {
    "collapsed": false,
    "ExecuteTime": {
     "end_time": "2023-12-06T09:00:52.887323300Z",
     "start_time": "2023-12-06T09:00:52.416863500Z"
    }
   },
   "id": "16873ce627ba0550"
  },
  {
   "cell_type": "code",
   "execution_count": 56,
   "outputs": [],
   "source": [
    "train_losses = []\n",
    "train_counter = []\n",
    "test_losses = []\n",
    "test_counter = [i*len(train_loader.dataset) for i in range(n_epochs + 1)]"
   ],
   "metadata": {
    "collapsed": false,
    "ExecuteTime": {
     "end_time": "2023-11-27T13:58:23.001899900Z",
     "start_time": "2023-11-27T13:58:22.994905100Z"
    }
   },
   "id": "16bf244fd1778b8d"
  },
  {
   "cell_type": "code",
   "execution_count": 57,
   "outputs": [],
   "source": [
    "def train(epoch):\n",
    "    # 将神经网络设置为训练模式\n",
    "    network.train()\n",
    "    \n",
    "    # 遍历训练数据集的每个批次\n",
    "    for batch_idx, (data, target) in enumerate(train_loader):\n",
    "        # 清零梯度，以防止梯度累积\n",
    "        optimizer.zero_grad()\n",
    "        \n",
    "        # 前向传播，获取模型输出\n",
    "        output = network(data)\n",
    "        \n",
    "        # 计算损失，使用负对数似然损失（NLL Loss）\n",
    "        loss = F.nll_loss(output, target)\n",
    "        \n",
    "        # 反向传播，计算梯度\n",
    "        loss.backward()\n",
    "        \n",
    "        # 优化器更新模型参数\n",
    "        optimizer.step()\n",
    "        \n",
    "        # 打印训练信息，每隔一定批次打印一次\n",
    "        if batch_idx % log_interval == 0:\n",
    "            print('Train Epoch: {} [{}/{} ({:.0f}%)]\\tLoss: {:.6f}'.format(\n",
    "                epoch, batch_idx * len(data), len(train_loader.dataset),\n",
    "                100. * batch_idx / len(train_loader), loss.item()))\n",
    "            \n",
    "            # 记录训练损失和计数器\n",
    "            train_losses.append(loss.item())\n",
    "            train_counter.append((batch_idx * 64) + ((epoch - 1) * len(train_loader.dataset)))\n",
    "            \n",
    "            # 保存模型和优化器的状态字典\n",
    "            torch.save(network.state_dict(), './model.pth')\n",
    "            torch.save(optimizer.state_dict(), './optimizer.pth')\n"
   ],
   "metadata": {
    "collapsed": false,
    "ExecuteTime": {
     "end_time": "2023-11-27T13:58:23.410935300Z",
     "start_time": "2023-11-27T13:58:23.396935300Z"
    }
   },
   "id": "f6d3b003974e4a9c"
  },
  {
   "cell_type": "code",
   "execution_count": 58,
   "outputs": [],
   "source": [
    "def test():\n",
    "  network.eval()\n",
    "  test_loss = 0\n",
    "  correct = 0\n",
    "  with torch.no_grad():\n",
    "    for data, target in test_loader:\n",
    "      output = network(data)\n",
    "      test_loss += F.nll_loss(output, target, size_average=False).item()\n",
    "      pred = output.data.max(1, keepdim=True)[1]\n",
    "      correct += pred.eq(target.data.view_as(pred)).sum()\n",
    "  test_loss /= len(test_loader.dataset)\n",
    "  test_losses.append(test_loss)\n",
    "  print('\\nTest set: Avg. loss: {:.4f}, Accuracy: {}/{} ({:.0f}%)\\n'.format(test_loss, correct, len(test_loader.dataset),100. * correct / len(test_loader.dataset)))"
   ],
   "metadata": {
    "collapsed": false,
    "ExecuteTime": {
     "end_time": "2023-11-27T13:58:24.247875600Z",
     "start_time": "2023-11-27T13:58:24.241875600Z"
    }
   },
   "id": "475f6f3a55d38164"
  },
  {
   "cell_type": "code",
   "execution_count": 61,
   "outputs": [
    {
     "name": "stderr",
     "output_type": "stream",
     "text": [
      "C:\\Users\\Lenovo\\AppData\\Local\\Temp\\ipykernel_26664\\935008181.py:20: UserWarning: Implicit dimension choice for log_softmax has been deprecated. Change the call to include dim=X as an argument.\n",
      "  return F.log_softmax(x)\n"
     ]
    },
    {
     "name": "stdout",
     "output_type": "stream",
     "text": [
      "\n",
      "Test set: Avg. loss: 0.1018, Accuracy: 9671/10000 (97%)\n"
     ]
    }
   ],
   "source": [
    "test()"
   ],
   "metadata": {
    "collapsed": false,
    "ExecuteTime": {
     "end_time": "2023-11-27T14:00:48.244471600Z",
     "start_time": "2023-11-27T14:00:46.139494500Z"
    }
   },
   "id": "88d7b2059d313de0"
  },
  {
   "cell_type": "code",
   "execution_count": 59,
   "outputs": [
    {
     "name": "stderr",
     "output_type": "stream",
     "text": [
      "C:\\Users\\Lenovo\\AppData\\Local\\Temp\\ipykernel_26664\\935008181.py:20: UserWarning: Implicit dimension choice for log_softmax has been deprecated. Change the call to include dim=X as an argument.\n",
      "  return F.log_softmax(x)\n"
     ]
    },
    {
     "name": "stdout",
     "output_type": "stream",
     "text": [
      "Train Epoch: 1 [0/60000 (0%)]\tLoss: 2.319280\n",
      "Train Epoch: 1 [640/60000 (1%)]\tLoss: 2.290954\n",
      "Train Epoch: 1 [1280/60000 (2%)]\tLoss: 2.318535\n",
      "Train Epoch: 1 [1920/60000 (3%)]\tLoss: 2.261000\n",
      "Train Epoch: 1 [2560/60000 (4%)]\tLoss: 2.259137\n",
      "Train Epoch: 1 [3200/60000 (5%)]\tLoss: 2.229576\n",
      "Train Epoch: 1 [3840/60000 (6%)]\tLoss: 2.196151\n",
      "Train Epoch: 1 [4480/60000 (7%)]\tLoss: 2.181698\n",
      "Train Epoch: 1 [5120/60000 (9%)]\tLoss: 2.088444\n",
      "Train Epoch: 1 [5760/60000 (10%)]\tLoss: 2.014765\n",
      "Train Epoch: 1 [6400/60000 (11%)]\tLoss: 1.818533\n",
      "Train Epoch: 1 [7040/60000 (12%)]\tLoss: 1.822772\n",
      "Train Epoch: 1 [7680/60000 (13%)]\tLoss: 1.838733\n",
      "Train Epoch: 1 [8320/60000 (14%)]\tLoss: 1.530556\n",
      "Train Epoch: 1 [8960/60000 (15%)]\tLoss: 1.738141\n",
      "Train Epoch: 1 [9600/60000 (16%)]\tLoss: 1.420971\n",
      "Train Epoch: 1 [10240/60000 (17%)]\tLoss: 1.369237\n",
      "Train Epoch: 1 [10880/60000 (18%)]\tLoss: 1.335397\n",
      "Train Epoch: 1 [11520/60000 (19%)]\tLoss: 1.182360\n",
      "Train Epoch: 1 [12160/60000 (20%)]\tLoss: 1.056649\n",
      "Train Epoch: 1 [12800/60000 (21%)]\tLoss: 1.085397\n",
      "Train Epoch: 1 [13440/60000 (22%)]\tLoss: 1.043771\n",
      "Train Epoch: 1 [14080/60000 (23%)]\tLoss: 0.979950\n",
      "Train Epoch: 1 [14720/60000 (25%)]\tLoss: 1.015060\n",
      "Train Epoch: 1 [15360/60000 (26%)]\tLoss: 0.934762\n",
      "Train Epoch: 1 [16000/60000 (27%)]\tLoss: 0.879235\n",
      "Train Epoch: 1 [16640/60000 (28%)]\tLoss: 0.789030\n",
      "Train Epoch: 1 [17280/60000 (29%)]\tLoss: 0.978481\n",
      "Train Epoch: 1 [17920/60000 (30%)]\tLoss: 0.976565\n",
      "Train Epoch: 1 [18560/60000 (31%)]\tLoss: 0.967663\n",
      "Train Epoch: 1 [19200/60000 (32%)]\tLoss: 0.968908\n",
      "Train Epoch: 1 [19840/60000 (33%)]\tLoss: 0.949749\n",
      "Train Epoch: 1 [20480/60000 (34%)]\tLoss: 0.706845\n",
      "Train Epoch: 1 [21120/60000 (35%)]\tLoss: 0.851653\n",
      "Train Epoch: 1 [21760/60000 (36%)]\tLoss: 0.641955\n",
      "Train Epoch: 1 [22400/60000 (37%)]\tLoss: 0.740981\n",
      "Train Epoch: 1 [23040/60000 (38%)]\tLoss: 0.843173\n",
      "Train Epoch: 1 [23680/60000 (39%)]\tLoss: 0.613265\n",
      "Train Epoch: 1 [24320/60000 (41%)]\tLoss: 0.985883\n",
      "Train Epoch: 1 [24960/60000 (42%)]\tLoss: 0.522866\n",
      "Train Epoch: 1 [25600/60000 (43%)]\tLoss: 0.723652\n",
      "Train Epoch: 1 [26240/60000 (44%)]\tLoss: 0.715426\n",
      "Train Epoch: 1 [26880/60000 (45%)]\tLoss: 0.821601\n",
      "Train Epoch: 1 [27520/60000 (46%)]\tLoss: 0.836153\n",
      "Train Epoch: 1 [28160/60000 (47%)]\tLoss: 0.583813\n",
      "Train Epoch: 1 [28800/60000 (48%)]\tLoss: 0.615148\n",
      "Train Epoch: 1 [29440/60000 (49%)]\tLoss: 0.799310\n",
      "Train Epoch: 1 [30080/60000 (50%)]\tLoss: 0.420124\n",
      "Train Epoch: 1 [30720/60000 (51%)]\tLoss: 0.517889\n",
      "Train Epoch: 1 [31360/60000 (52%)]\tLoss: 0.548399\n",
      "Train Epoch: 1 [32000/60000 (53%)]\tLoss: 0.560620\n",
      "Train Epoch: 1 [32640/60000 (54%)]\tLoss: 0.588952\n",
      "Train Epoch: 1 [33280/60000 (55%)]\tLoss: 0.667492\n",
      "Train Epoch: 1 [33920/60000 (57%)]\tLoss: 0.644146\n",
      "Train Epoch: 1 [34560/60000 (58%)]\tLoss: 0.430593\n",
      "Train Epoch: 1 [35200/60000 (59%)]\tLoss: 0.725816\n",
      "Train Epoch: 1 [35840/60000 (60%)]\tLoss: 0.526640\n",
      "Train Epoch: 1 [36480/60000 (61%)]\tLoss: 0.427656\n",
      "Train Epoch: 1 [37120/60000 (62%)]\tLoss: 0.668268\n",
      "Train Epoch: 1 [37760/60000 (63%)]\tLoss: 0.588637\n",
      "Train Epoch: 1 [38400/60000 (64%)]\tLoss: 0.592254\n",
      "Train Epoch: 1 [39040/60000 (65%)]\tLoss: 0.514066\n",
      "Train Epoch: 1 [39680/60000 (66%)]\tLoss: 0.473701\n",
      "Train Epoch: 1 [40320/60000 (67%)]\tLoss: 0.621314\n",
      "Train Epoch: 1 [40960/60000 (68%)]\tLoss: 0.547446\n",
      "Train Epoch: 1 [41600/60000 (69%)]\tLoss: 0.806534\n",
      "Train Epoch: 1 [42240/60000 (70%)]\tLoss: 0.530929\n",
      "Train Epoch: 1 [42880/60000 (71%)]\tLoss: 0.576585\n",
      "Train Epoch: 1 [43520/60000 (72%)]\tLoss: 0.684695\n",
      "Train Epoch: 1 [44160/60000 (74%)]\tLoss: 0.561910\n",
      "Train Epoch: 1 [44800/60000 (75%)]\tLoss: 0.464517\n",
      "Train Epoch: 1 [45440/60000 (76%)]\tLoss: 0.449122\n",
      "Train Epoch: 1 [46080/60000 (77%)]\tLoss: 0.632508\n",
      "Train Epoch: 1 [46720/60000 (78%)]\tLoss: 0.443234\n",
      "Train Epoch: 1 [47360/60000 (79%)]\tLoss: 0.484533\n",
      "Train Epoch: 1 [48000/60000 (80%)]\tLoss: 0.510900\n",
      "Train Epoch: 1 [48640/60000 (81%)]\tLoss: 0.391136\n",
      "Train Epoch: 1 [49280/60000 (82%)]\tLoss: 0.629771\n",
      "Train Epoch: 1 [49920/60000 (83%)]\tLoss: 0.452053\n",
      "Train Epoch: 1 [50560/60000 (84%)]\tLoss: 0.374481\n",
      "Train Epoch: 1 [51200/60000 (85%)]\tLoss: 0.657919\n",
      "Train Epoch: 1 [51840/60000 (86%)]\tLoss: 0.416000\n",
      "Train Epoch: 1 [52480/60000 (87%)]\tLoss: 0.343285\n",
      "Train Epoch: 1 [53120/60000 (88%)]\tLoss: 0.385435\n",
      "Train Epoch: 1 [53760/60000 (90%)]\tLoss: 0.589105\n",
      "Train Epoch: 1 [54400/60000 (91%)]\tLoss: 0.403904\n",
      "Train Epoch: 1 [55040/60000 (92%)]\tLoss: 0.442399\n",
      "Train Epoch: 1 [55680/60000 (93%)]\tLoss: 0.369628\n",
      "Train Epoch: 1 [56320/60000 (94%)]\tLoss: 0.761327\n",
      "Train Epoch: 1 [56960/60000 (95%)]\tLoss: 0.468440\n",
      "Train Epoch: 1 [57600/60000 (96%)]\tLoss: 0.495812\n",
      "Train Epoch: 1 [58240/60000 (97%)]\tLoss: 0.312277\n",
      "Train Epoch: 1 [58880/60000 (98%)]\tLoss: 0.709695\n",
      "Train Epoch: 1 [59520/60000 (99%)]\tLoss: 0.388614\n",
      "\n",
      "Test set: Avg. loss: 0.1914, Accuracy: 9443/10000 (94%)\n",
      "\n",
      "Train Epoch: 2 [0/60000 (0%)]\tLoss: 0.670918\n",
      "Train Epoch: 2 [640/60000 (1%)]\tLoss: 0.454035\n",
      "Train Epoch: 2 [1280/60000 (2%)]\tLoss: 0.245211\n",
      "Train Epoch: 2 [1920/60000 (3%)]\tLoss: 0.478693\n",
      "Train Epoch: 2 [2560/60000 (4%)]\tLoss: 0.404683\n",
      "Train Epoch: 2 [3200/60000 (5%)]\tLoss: 0.733596\n",
      "Train Epoch: 2 [3840/60000 (6%)]\tLoss: 0.503334\n",
      "Train Epoch: 2 [4480/60000 (7%)]\tLoss: 0.655220\n",
      "Train Epoch: 2 [5120/60000 (9%)]\tLoss: 0.488559\n",
      "Train Epoch: 2 [5760/60000 (10%)]\tLoss: 0.547452\n",
      "Train Epoch: 2 [6400/60000 (11%)]\tLoss: 0.456412\n",
      "Train Epoch: 2 [7040/60000 (12%)]\tLoss: 0.351028\n",
      "Train Epoch: 2 [7680/60000 (13%)]\tLoss: 0.419419\n",
      "Train Epoch: 2 [8320/60000 (14%)]\tLoss: 0.405862\n",
      "Train Epoch: 2 [8960/60000 (15%)]\tLoss: 0.371471\n",
      "Train Epoch: 2 [9600/60000 (16%)]\tLoss: 0.594111\n",
      "Train Epoch: 2 [10240/60000 (17%)]\tLoss: 0.491084\n",
      "Train Epoch: 2 [10880/60000 (18%)]\tLoss: 0.349929\n",
      "Train Epoch: 2 [11520/60000 (19%)]\tLoss: 0.302454\n",
      "Train Epoch: 2 [12160/60000 (20%)]\tLoss: 0.620535\n",
      "Train Epoch: 2 [12800/60000 (21%)]\tLoss: 0.611170\n",
      "Train Epoch: 2 [13440/60000 (22%)]\tLoss: 0.256218\n",
      "Train Epoch: 2 [14080/60000 (23%)]\tLoss: 0.423877\n",
      "Train Epoch: 2 [14720/60000 (25%)]\tLoss: 0.469547\n",
      "Train Epoch: 2 [15360/60000 (26%)]\tLoss: 0.391032\n",
      "Train Epoch: 2 [16000/60000 (27%)]\tLoss: 0.291394\n",
      "Train Epoch: 2 [16640/60000 (28%)]\tLoss: 0.630934\n",
      "Train Epoch: 2 [17280/60000 (29%)]\tLoss: 0.563961\n",
      "Train Epoch: 2 [17920/60000 (30%)]\tLoss: 0.314623\n",
      "Train Epoch: 2 [18560/60000 (31%)]\tLoss: 0.360751\n",
      "Train Epoch: 2 [19200/60000 (32%)]\tLoss: 0.571388\n",
      "Train Epoch: 2 [19840/60000 (33%)]\tLoss: 0.231083\n",
      "Train Epoch: 2 [20480/60000 (34%)]\tLoss: 0.393764\n",
      "Train Epoch: 2 [21120/60000 (35%)]\tLoss: 0.423123\n",
      "Train Epoch: 2 [21760/60000 (36%)]\tLoss: 0.566188\n",
      "Train Epoch: 2 [22400/60000 (37%)]\tLoss: 0.255887\n",
      "Train Epoch: 2 [23040/60000 (38%)]\tLoss: 0.239246\n",
      "Train Epoch: 2 [23680/60000 (39%)]\tLoss: 0.458430\n",
      "Train Epoch: 2 [24320/60000 (41%)]\tLoss: 0.469396\n",
      "Train Epoch: 2 [24960/60000 (42%)]\tLoss: 0.302147\n",
      "Train Epoch: 2 [25600/60000 (43%)]\tLoss: 0.474464\n",
      "Train Epoch: 2 [26240/60000 (44%)]\tLoss: 0.410846\n",
      "Train Epoch: 2 [26880/60000 (45%)]\tLoss: 0.413140\n",
      "Train Epoch: 2 [27520/60000 (46%)]\tLoss: 0.326091\n",
      "Train Epoch: 2 [28160/60000 (47%)]\tLoss: 0.444862\n",
      "Train Epoch: 2 [28800/60000 (48%)]\tLoss: 0.316875\n",
      "Train Epoch: 2 [29440/60000 (49%)]\tLoss: 0.283850\n",
      "Train Epoch: 2 [30080/60000 (50%)]\tLoss: 0.449305\n",
      "Train Epoch: 2 [30720/60000 (51%)]\tLoss: 0.330667\n",
      "Train Epoch: 2 [31360/60000 (52%)]\tLoss: 0.366588\n",
      "Train Epoch: 2 [32000/60000 (53%)]\tLoss: 0.342234\n",
      "Train Epoch: 2 [32640/60000 (54%)]\tLoss: 0.422988\n",
      "Train Epoch: 2 [33280/60000 (55%)]\tLoss: 0.258404\n",
      "Train Epoch: 2 [33920/60000 (57%)]\tLoss: 0.350302\n",
      "Train Epoch: 2 [34560/60000 (58%)]\tLoss: 0.502677\n",
      "Train Epoch: 2 [35200/60000 (59%)]\tLoss: 0.329065\n",
      "Train Epoch: 2 [35840/60000 (60%)]\tLoss: 0.199678\n",
      "Train Epoch: 2 [36480/60000 (61%)]\tLoss: 0.430679\n",
      "Train Epoch: 2 [37120/60000 (62%)]\tLoss: 0.291687\n",
      "Train Epoch: 2 [37760/60000 (63%)]\tLoss: 0.514566\n",
      "Train Epoch: 2 [38400/60000 (64%)]\tLoss: 0.328928\n",
      "Train Epoch: 2 [39040/60000 (65%)]\tLoss: 0.320937\n",
      "Train Epoch: 2 [39680/60000 (66%)]\tLoss: 0.216395\n",
      "Train Epoch: 2 [40320/60000 (67%)]\tLoss: 0.292791\n",
      "Train Epoch: 2 [40960/60000 (68%)]\tLoss: 0.292880\n",
      "Train Epoch: 2 [41600/60000 (69%)]\tLoss: 0.281205\n",
      "Train Epoch: 2 [42240/60000 (70%)]\tLoss: 0.407934\n",
      "Train Epoch: 2 [42880/60000 (71%)]\tLoss: 0.421789\n",
      "Train Epoch: 2 [43520/60000 (72%)]\tLoss: 0.477562\n",
      "Train Epoch: 2 [44160/60000 (74%)]\tLoss: 0.361683\n",
      "Train Epoch: 2 [44800/60000 (75%)]\tLoss: 0.398122\n",
      "Train Epoch: 2 [45440/60000 (76%)]\tLoss: 0.183287\n",
      "Train Epoch: 2 [46080/60000 (77%)]\tLoss: 0.326299\n",
      "Train Epoch: 2 [46720/60000 (78%)]\tLoss: 0.307400\n",
      "Train Epoch: 2 [47360/60000 (79%)]\tLoss: 0.452687\n",
      "Train Epoch: 2 [48000/60000 (80%)]\tLoss: 0.385841\n",
      "Train Epoch: 2 [48640/60000 (81%)]\tLoss: 0.418962\n",
      "Train Epoch: 2 [49280/60000 (82%)]\tLoss: 0.450450\n",
      "Train Epoch: 2 [49920/60000 (83%)]\tLoss: 0.307459\n",
      "Train Epoch: 2 [50560/60000 (84%)]\tLoss: 0.339440\n",
      "Train Epoch: 2 [51200/60000 (85%)]\tLoss: 0.248799\n",
      "Train Epoch: 2 [51840/60000 (86%)]\tLoss: 0.258528\n",
      "Train Epoch: 2 [52480/60000 (87%)]\tLoss: 0.238084\n",
      "Train Epoch: 2 [53120/60000 (88%)]\tLoss: 0.319102\n",
      "Train Epoch: 2 [53760/60000 (90%)]\tLoss: 0.226558\n",
      "Train Epoch: 2 [54400/60000 (91%)]\tLoss: 0.244694\n",
      "Train Epoch: 2 [55040/60000 (92%)]\tLoss: 0.338846\n",
      "Train Epoch: 2 [55680/60000 (93%)]\tLoss: 0.195996\n",
      "Train Epoch: 2 [56320/60000 (94%)]\tLoss: 0.425065\n",
      "Train Epoch: 2 [56960/60000 (95%)]\tLoss: 0.144853\n",
      "Train Epoch: 2 [57600/60000 (96%)]\tLoss: 0.366969\n",
      "Train Epoch: 2 [58240/60000 (97%)]\tLoss: 0.358561\n",
      "Train Epoch: 2 [58880/60000 (98%)]\tLoss: 0.303032\n",
      "Train Epoch: 2 [59520/60000 (99%)]\tLoss: 0.488344\n",
      "\n",
      "Test set: Avg. loss: 0.1255, Accuracy: 9596/10000 (96%)\n",
      "\n",
      "Train Epoch: 3 [0/60000 (0%)]\tLoss: 0.229621\n",
      "Train Epoch: 3 [640/60000 (1%)]\tLoss: 0.221917\n",
      "Train Epoch: 3 [1280/60000 (2%)]\tLoss: 0.416496\n",
      "Train Epoch: 3 [1920/60000 (3%)]\tLoss: 0.260576\n",
      "Train Epoch: 3 [2560/60000 (4%)]\tLoss: 0.359249\n",
      "Train Epoch: 3 [3200/60000 (5%)]\tLoss: 0.296710\n",
      "Train Epoch: 3 [3840/60000 (6%)]\tLoss: 0.250848\n",
      "Train Epoch: 3 [4480/60000 (7%)]\tLoss: 0.441027\n",
      "Train Epoch: 3 [5120/60000 (9%)]\tLoss: 0.252821\n",
      "Train Epoch: 3 [5760/60000 (10%)]\tLoss: 0.263034\n",
      "Train Epoch: 3 [6400/60000 (11%)]\tLoss: 0.419391\n",
      "Train Epoch: 3 [7040/60000 (12%)]\tLoss: 0.338168\n",
      "Train Epoch: 3 [7680/60000 (13%)]\tLoss: 0.287029\n",
      "Train Epoch: 3 [8320/60000 (14%)]\tLoss: 0.271575\n",
      "Train Epoch: 3 [8960/60000 (15%)]\tLoss: 0.171170\n",
      "Train Epoch: 3 [9600/60000 (16%)]\tLoss: 0.287048\n",
      "Train Epoch: 3 [10240/60000 (17%)]\tLoss: 0.406062\n",
      "Train Epoch: 3 [10880/60000 (18%)]\tLoss: 0.513308\n",
      "Train Epoch: 3 [11520/60000 (19%)]\tLoss: 0.331274\n",
      "Train Epoch: 3 [12160/60000 (20%)]\tLoss: 0.195756\n",
      "Train Epoch: 3 [12800/60000 (21%)]\tLoss: 0.378445\n",
      "Train Epoch: 3 [13440/60000 (22%)]\tLoss: 0.185472\n",
      "Train Epoch: 3 [14080/60000 (23%)]\tLoss: 0.298777\n",
      "Train Epoch: 3 [14720/60000 (25%)]\tLoss: 0.319170\n",
      "Train Epoch: 3 [15360/60000 (26%)]\tLoss: 0.300069\n",
      "Train Epoch: 3 [16000/60000 (27%)]\tLoss: 0.376793\n",
      "Train Epoch: 3 [16640/60000 (28%)]\tLoss: 0.250752\n",
      "Train Epoch: 3 [17280/60000 (29%)]\tLoss: 0.382439\n",
      "Train Epoch: 3 [17920/60000 (30%)]\tLoss: 0.251078\n",
      "Train Epoch: 3 [18560/60000 (31%)]\tLoss: 0.316155\n",
      "Train Epoch: 3 [19200/60000 (32%)]\tLoss: 0.230000\n",
      "Train Epoch: 3 [19840/60000 (33%)]\tLoss: 0.356320\n",
      "Train Epoch: 3 [20480/60000 (34%)]\tLoss: 0.262511\n",
      "Train Epoch: 3 [21120/60000 (35%)]\tLoss: 0.600767\n",
      "Train Epoch: 3 [21760/60000 (36%)]\tLoss: 0.460445\n",
      "Train Epoch: 3 [22400/60000 (37%)]\tLoss: 0.319170\n",
      "Train Epoch: 3 [23040/60000 (38%)]\tLoss: 0.421163\n",
      "Train Epoch: 3 [23680/60000 (39%)]\tLoss: 0.395609\n",
      "Train Epoch: 3 [24320/60000 (41%)]\tLoss: 0.237559\n",
      "Train Epoch: 3 [24960/60000 (42%)]\tLoss: 0.246663\n",
      "Train Epoch: 3 [25600/60000 (43%)]\tLoss: 0.273877\n",
      "Train Epoch: 3 [26240/60000 (44%)]\tLoss: 0.254429\n",
      "Train Epoch: 3 [26880/60000 (45%)]\tLoss: 0.223951\n",
      "Train Epoch: 3 [27520/60000 (46%)]\tLoss: 0.337172\n",
      "Train Epoch: 3 [28160/60000 (47%)]\tLoss: 0.496799\n",
      "Train Epoch: 3 [28800/60000 (48%)]\tLoss: 0.224954\n",
      "Train Epoch: 3 [29440/60000 (49%)]\tLoss: 0.380040\n",
      "Train Epoch: 3 [30080/60000 (50%)]\tLoss: 0.412099\n",
      "Train Epoch: 3 [30720/60000 (51%)]\tLoss: 0.279267\n",
      "Train Epoch: 3 [31360/60000 (52%)]\tLoss: 0.215652\n",
      "Train Epoch: 3 [32000/60000 (53%)]\tLoss: 0.306767\n",
      "Train Epoch: 3 [32640/60000 (54%)]\tLoss: 0.391982\n",
      "Train Epoch: 3 [33280/60000 (55%)]\tLoss: 0.237011\n",
      "Train Epoch: 3 [33920/60000 (57%)]\tLoss: 0.493759\n",
      "Train Epoch: 3 [34560/60000 (58%)]\tLoss: 0.373660\n",
      "Train Epoch: 3 [35200/60000 (59%)]\tLoss: 0.230692\n",
      "Train Epoch: 3 [35840/60000 (60%)]\tLoss: 0.444777\n",
      "Train Epoch: 3 [36480/60000 (61%)]\tLoss: 0.134010\n",
      "Train Epoch: 3 [37120/60000 (62%)]\tLoss: 0.168842\n",
      "Train Epoch: 3 [37760/60000 (63%)]\tLoss: 0.537169\n",
      "Train Epoch: 3 [38400/60000 (64%)]\tLoss: 0.272729\n",
      "Train Epoch: 3 [39040/60000 (65%)]\tLoss: 0.151639\n",
      "Train Epoch: 3 [39680/60000 (66%)]\tLoss: 0.357670\n",
      "Train Epoch: 3 [40320/60000 (67%)]\tLoss: 0.227719\n",
      "Train Epoch: 3 [40960/60000 (68%)]\tLoss: 0.351183\n",
      "Train Epoch: 3 [41600/60000 (69%)]\tLoss: 0.183063\n",
      "Train Epoch: 3 [42240/60000 (70%)]\tLoss: 0.273375\n",
      "Train Epoch: 3 [42880/60000 (71%)]\tLoss: 0.288514\n",
      "Train Epoch: 3 [43520/60000 (72%)]\tLoss: 0.463442\n",
      "Train Epoch: 3 [44160/60000 (74%)]\tLoss: 0.211752\n",
      "Train Epoch: 3 [44800/60000 (75%)]\tLoss: 0.292474\n",
      "Train Epoch: 3 [45440/60000 (76%)]\tLoss: 0.281106\n",
      "Train Epoch: 3 [46080/60000 (77%)]\tLoss: 0.212706\n",
      "Train Epoch: 3 [46720/60000 (78%)]\tLoss: 0.370586\n",
      "Train Epoch: 3 [47360/60000 (79%)]\tLoss: 0.404196\n",
      "Train Epoch: 3 [48000/60000 (80%)]\tLoss: 0.362298\n",
      "Train Epoch: 3 [48640/60000 (81%)]\tLoss: 0.332324\n",
      "Train Epoch: 3 [49280/60000 (82%)]\tLoss: 0.258014\n",
      "Train Epoch: 3 [49920/60000 (83%)]\tLoss: 0.375541\n",
      "Train Epoch: 3 [50560/60000 (84%)]\tLoss: 0.130251\n",
      "Train Epoch: 3 [51200/60000 (85%)]\tLoss: 0.203908\n",
      "Train Epoch: 3 [51840/60000 (86%)]\tLoss: 0.278938\n",
      "Train Epoch: 3 [52480/60000 (87%)]\tLoss: 0.244604\n",
      "Train Epoch: 3 [53120/60000 (88%)]\tLoss: 0.229257\n",
      "Train Epoch: 3 [53760/60000 (90%)]\tLoss: 0.222509\n",
      "Train Epoch: 3 [54400/60000 (91%)]\tLoss: 0.159071\n",
      "Train Epoch: 3 [55040/60000 (92%)]\tLoss: 0.233795\n",
      "Train Epoch: 3 [55680/60000 (93%)]\tLoss: 0.249439\n",
      "Train Epoch: 3 [56320/60000 (94%)]\tLoss: 0.370515\n",
      "Train Epoch: 3 [56960/60000 (95%)]\tLoss: 0.561829\n",
      "Train Epoch: 3 [57600/60000 (96%)]\tLoss: 0.255670\n",
      "Train Epoch: 3 [58240/60000 (97%)]\tLoss: 0.178493\n",
      "Train Epoch: 3 [58880/60000 (98%)]\tLoss: 0.393723\n",
      "Train Epoch: 3 [59520/60000 (99%)]\tLoss: 0.180310\n",
      "\n",
      "Test set: Avg. loss: 0.1018, Accuracy: 9671/10000 (97%)\n"
     ]
    }
   ],
   "source": [
    "for epoch in range(1, n_epochs + 1):\n",
    "    train(epoch)\n",
    "    test()"
   ],
   "metadata": {
    "collapsed": false,
    "ExecuteTime": {
     "end_time": "2023-11-27T13:59:24.654524400Z",
     "start_time": "2023-11-27T13:58:25.247949700Z"
    }
   },
   "id": "cdb2d7a7350b19d1"
  },
  {
   "cell_type": "code",
   "execution_count": null,
   "outputs": [],
   "source": [],
   "metadata": {
    "collapsed": false
   },
   "id": "e89fe76e073269ca"
  },
  {
   "cell_type": "code",
   "execution_count": 62,
   "outputs": [
    {
     "data": {
      "text/plain": "<Figure size 640x480 with 1 Axes>",
      "image/png": "[encoded data removed]"
     },
     "metadata": {},
     "output_type": "display_data"
    }
   ],
   "source": [
    "fig = plt.figure()\n",
    "plt.plot(train_counter, train_losses, color='blue')\n",
    "plt.scatter(test_counter, test_losses, color='red')\n",
    "plt.legend(['Train Loss', 'Test Loss'], loc='upper right')\n",
    "plt.xlabel('number of training examples seen')\n",
    "plt.ylabel('negative log likelihood loss')\n",
    "plt.show()"
   ],
   "metadata": {
    "collapsed": false,
    "ExecuteTime": {
     "end_time": "2023-11-27T14:00:52.167110600Z",
     "start_time": "2023-11-27T14:00:52.027073500Z"
    }
   },
   "id": "ee8460c7be4cf7b9"
  },
  {
   "cell_type": "code",
   "execution_count": 49,
   "outputs": [
    {
     "name": "stderr",
     "output_type": "stream",
     "text": [
      "C:\\Users\\Lenovo\\AppData\\Local\\Temp\\ipykernel_26664\\935008181.py:20: UserWarning: Implicit dimension choice for log_softmax has been deprecated. Change the call to include dim=X as an argument.\n",
      "  return F.log_softmax(x)\n",
      "C:\\Users\\Lenovo\\AppData\\Local\\Temp\\ipykernel_26664\\4082627069.py:8: UserWarning: The figure layout has changed to tight\n",
      "  plt.tight_layout()\n"
     ]
    },
    {
     "data": {
      "text/plain": "<Figure size 640x480 with 6 Axes>",
      "image/png": "[encoded data removed]"
     },
     "metadata": {},
     "output_type": "display_data"
    }
   ],
   "source": [
    "examples = enumerate(test_loader)\n",
    "batch_idx, (example_data, example_targets) = next(examples)\n",
    "with torch.no_grad():\n",
    "    output = network(example_data)\n",
    "fig = plt.figure()\n",
    "for i in range(6):\n",
    "    plt.subplot(2, 3, i + 1)\n",
    "    plt.tight_layout()\n",
    "    plt.imshow(example_data[i][0], cmap='gray', interpolation='none')\n",
    "    plt.title(\"Prediction: {}\".format(output.data.max(1, keepdim=True)[1][i].item()))\n",
    "    plt.xticks([])\n",
    "    plt.yticks([])\n",
    "plt.show()"
   ],
   "metadata": {
    "collapsed": false,
    "ExecuteTime": {
     "end_time": "2023-11-27T13:58:06.905743200Z",
     "start_time": "2023-11-27T13:58:06.299225800Z"
    }
   },
   "id": "c1c667113eb66402"
  },
  {
   "cell_type": "code",
   "execution_count": null,
   "outputs": [],
   "source": [],
   "metadata": {
    "collapsed": false
   },
   "id": "e17961a4979f03d9"
  }
 ],
 "metadata": {
  "kernelspec": {
   "display_name": "Python 3",
   "language": "python",
   "name": "python3"
  },
  "language_info": {
   "codemirror_mode": {
    "name": "ipython",
    "version": 2
   },
   "file_extension": ".py",
   "mimetype": "text/x-python",
   "name": "python",
   "nbconvert_exporter": "python",
   "pygments_lexer": "ipython2",
   "version": "2.7.6"
  }
 },
 "nbformat": 4,
 "nbformat_minor": 5
}
