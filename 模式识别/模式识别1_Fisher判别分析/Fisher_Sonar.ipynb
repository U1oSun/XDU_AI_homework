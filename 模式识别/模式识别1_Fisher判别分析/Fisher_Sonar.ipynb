{
 "cells": [
  {
   "cell_type": "code",
   "execution_count": 2,
   "id": "initial_id",
   "metadata": {
    "collapsed": true,
    "ExecuteTime": {
     "end_time": "2023-11-12T07:07:19.779743700Z",
     "start_time": "2023-11-12T07:07:18.399Z"
    }
   },
   "outputs": [],
   "source": [
    "import pandas as pd\n",
    "import numpy as np\n",
    "import matplotlib.pyplot as plt"
   ]
  },
  {
   "cell_type": "code",
   "execution_count": 3,
   "outputs": [],
   "source": [
    "sonar = pd.read_csv('sonar.all-data.csv', header=None, sep=',')\n",
    "sonar1 = sonar.iloc[0:208,0:60]\n",
    "sonar2 = np.array(sonar1)"
   ],
   "metadata": {
    "collapsed": false,
    "ExecuteTime": {
     "end_time": "2023-11-12T07:07:19.814741600Z",
     "start_time": "2023-11-12T07:07:19.782744900Z"
    }
   },
   "id": "ebdeb137d88c77d1"
  },
  {
   "cell_type": "code",
   "execution_count": 6,
   "outputs": [],
   "source": [
    "sonar_dataframe=pd.DataFrame(sonar2)"
   ],
   "metadata": {
    "collapsed": false,
    "ExecuteTime": {
     "end_time": "2023-11-12T07:09:10.299877300Z",
     "start_time": "2023-11-12T07:09:10.270875200Z"
    }
   },
   "id": "6cc520fa7dc4dec8"
  },
  {
   "cell_type": "code",
   "execution_count": 10,
   "outputs": [],
   "source": [
    "def Fisher(X1, X2, n):  #Fisher线性判别过程\n",
    "    X1 = X1[:, 0:n]\n",
    "    X2 = X2[:, 0:n]\n",
    "    m1 = (np.mean(X1, axis=0))\n",
    "    m2 = (np.mean(X2, axis=0))\n",
    "    m1 = m1.reshape(n, 1)  # 将行向量转换为列向量以便于计算\n",
    "    m2 = m2.reshape(n, 1)\n",
    "\n",
    "    # 计算类内离散度矩阵\n",
    "    S1 = np.zeros((n, n))\n",
    "    S2 = np.zeros((n, n))\n",
    "    for i in range(0, X1.shape[0]):\n",
    "        S1 += (X1[i].reshape(n, 1) - m1).dot((X1[i].reshape(n, 1) - m1).T)\n",
    "    for i in range(0, X2.shape[0]):\n",
    "        S2 += (X2[i].reshape(n, 1) - m2).dot((X2[i].reshape(n, 1) - m2).T)\n",
    "    # 计算总类内离散度矩阵S_w\n",
    "    S_w = S1 + S2\n",
    "\n",
    "    # 计算最优投影方向 W\n",
    "    W = np.linalg.inv(S_w).dot(m1 - m2)\n",
    "    # 在投影后的一维空间求两类的均值\n",
    "    m_1 = (W.T).dot(m1)\n",
    "    m_2 = (W.T).dot(m2)\n",
    "\n",
    "    # 计算分类阈值 W0(为一个列向量)\n",
    "    W0 = 0.5 * (m_1 + m_2)\n",
    "\n",
    "    return W, W0\n"
   ],
   "metadata": {
    "collapsed": false,
    "ExecuteTime": {
     "end_time": "2023-11-08T10:49:17.595996500Z",
     "start_time": "2023-11-08T10:49:17.544984100Z"
    }
   },
   "id": "b893d09800e382b"
  },
  {
   "cell_type": "code",
   "execution_count": 11,
   "outputs": [],
   "source": [
    "def Classify(X, W, W0, n):\n",
    "    y = (W.T).dot(X[0:n, :]) - W0\n",
    "    return y"
   ],
   "metadata": {
    "collapsed": false,
    "ExecuteTime": {
     "end_time": "2023-11-08T10:49:17.725912500Z",
     "start_time": "2023-11-08T10:49:17.669683400Z"
    }
   },
   "id": "61eec47f3f0a5b87"
  },
  {
   "cell_type": "code",
   "execution_count": 13,
   "outputs": [
    {
     "name": "stderr",
     "output_type": "stream",
     "text": [
      "C:\\Users\\Lenovo\\AppData\\Local\\Temp\\ipykernel_2228\\3779961726.py:17: DeprecationWarning: Conversion of an array with ndim > 0 to a scalar is deprecated, and will error in future. Ensure you extract a single element from your array before performing this operation. (Deprecated NumPy 1.25.)\n",
      "  result[i] = Classify(test, W, W0, n)\n",
      "C:\\Users\\Lenovo\\AppData\\Local\\Temp\\ipykernel_2228\\3779961726.py:25: DeprecationWarning: Conversion of an array with ndim > 0 to a scalar is deprecated, and will error in future. Ensure you extract a single element from your array before performing this operation. (Deprecated NumPy 1.25.)\n",
      "  result[i] = Classify(test, W, W0, n)\n"
     ]
    },
    {
     "name": "stdout",
     "output_type": "stream",
     "text": [
      "分类准确率在维数取1时为:0.587\n",
      "分类准确率在维数取2时为:0.587\n",
      "分类准确率在维数取3时为:0.543\n",
      "分类准确率在维数取4时为:0.577\n",
      "分类准确率在维数取5时为:0.577\n",
      "分类准确率在维数取6时为:0.572\n",
      "分类准确率在维数取7时为:0.572\n",
      "分类准确率在维数取8时为:0.587\n",
      "分类准确率在维数取9时为:0.649\n",
      "分类准确率在维数取10时为:0.644\n",
      "分类准确率在维数取11时为:0.716\n",
      "分类准确率在维数取12时为:0.692\n",
      "分类准确率在维数取13时为:0.716\n",
      "分类准确率在维数取14时为:0.716\n",
      "分类准确率在维数取15时为:0.702\n",
      "分类准确率在维数取16时为:0.688\n",
      "分类准确率在维数取17时为:0.678\n",
      "分类准确率在维数取18时为:0.668\n",
      "分类准确率在维数取19时为:0.678\n",
      "分类准确率在维数取20时为:0.654\n",
      "分类准确率在维数取21时为:0.659\n",
      "分类准确率在维数取22时为:0.716\n",
      "分类准确率在维数取23时为:0.726\n",
      "分类准确率在维数取24时为:0.726\n",
      "分类准确率在维数取25时为:0.716\n",
      "分类准确率在维数取26时为:0.721\n",
      "分类准确率在维数取27时为:0.721\n",
      "分类准确率在维数取28时为:0.712\n",
      "分类准确率在维数取29时为:0.707\n",
      "分类准确率在维数取30时为:0.688\n",
      "分类准确率在维数取31时为:0.731\n",
      "分类准确率在维数取32时为:0.716\n",
      "分类准确率在维数取33时为:0.721\n",
      "分类准确率在维数取34时为:0.716\n",
      "分类准确率在维数取35时为:0.712\n",
      "分类准确率在维数取36时为:0.707\n",
      "分类准确率在维数取37时为:0.707\n",
      "分类准确率在维数取38时为:0.707\n",
      "分类准确率在维数取39时为:0.697\n",
      "分类准确率在维数取40时为:0.712\n",
      "分类准确率在维数取41时为:0.736\n",
      "分类准确率在维数取42时为:0.721\n",
      "分类准确率在维数取43时为:0.740\n",
      "分类准确率在维数取44时为:0.750\n",
      "分类准确率在维数取45时为:0.750\n",
      "分类准确率在维数取46时为:0.740\n",
      "分类准确率在维数取47时为:0.764\n",
      "分类准确率在维数取48时为:0.760\n",
      "分类准确率在维数取49时为:0.788\n",
      "分类准确率在维数取50时为:0.803\n",
      "分类准确率在维数取51时为:0.793\n",
      "分类准确率在维数取52时为:0.798\n",
      "分类准确率在维数取53时为:0.803\n",
      "分类准确率在维数取54时为:0.779\n",
      "分类准确率在维数取55时为:0.788\n",
      "分类准确率在维数取56时为:0.784\n",
      "分类准确率在维数取57时为:0.764\n",
      "分类准确率在维数取58时为:0.764\n",
      "分类准确率在维数取59时为:0.764\n",
      "分类准确率在维数取60时为:0.779\n"
     ]
    }
   ],
   "source": [
    "P1 = sonar2[0:104, 0:60]\n",
    "P2 = sonar2[104:208, 0:60]\n",
    "\n",
    "result = np.zeros(208)\n",
    "Accuracy = np.zeros(60)\n",
    "\n",
    "for n in range(1, 61):\n",
    "    count = 0\n",
    "    for i in range(208):\n",
    "        if i <= 103:\n",
    "            test = P1[i]\n",
    "            test = test.reshape(60, 1)\n",
    "            train = np.delete(P1, i, axis=0)\n",
    "            W,W0 = Fisher(train, P2, n)\n",
    "            if (Classify(test, W, W0, n)) >= 0:\n",
    "                count += 1\n",
    "                result[i] = Classify(test, W, W0, n)\n",
    "        else:\n",
    "            test = P2[i-104]\n",
    "            test = test.reshape(60, 1)\n",
    "            train = np.delete(P2, i-104, axis=0)\n",
    "            W,W0 = Fisher(P1, train, n)\n",
    "            if (Classify(test, W, W0, n)) < 0:\n",
    "                count += 1\n",
    "                result[i] = Classify(test, W, W0, n)\n",
    "    Accuracy[n-1] = count/208\n",
    "    print(\"分类准确率在维数取%d时为:%.3f\" % (n, Accuracy[n-1]))"
   ],
   "metadata": {
    "collapsed": false,
    "ExecuteTime": {
     "end_time": "2023-11-08T10:49:42.497996300Z",
     "start_time": "2023-11-08T10:49:24.774664600Z"
    }
   },
   "id": "935c35c9c36f0eb4"
  },
  {
   "cell_type": "code",
   "execution_count": 14,
   "outputs": [
    {
     "data": {
      "text/plain": "<Figure size 640x480 with 1 Axes>",
      "image/png": "[encoded data removed]"
     },
     "metadata": {},
     "output_type": "display_data"
    }
   ],
   "source": [
    "#画曲线图\n",
    "x = np.arange(1, 61, 1)\n",
    "plt.title(\"Fisher in Sonar\")\n",
    "plt.xlabel('dimension')\n",
    "plt.ylabel('Accuracy')\n",
    "plt.xlim((1, 60))\n",
    "plt.ylim((0, 1.0))\n",
    "plt.plot(x, Accuracy, 'r-,')\n",
    "plt.show()"
   ],
   "metadata": {
    "collapsed": false,
    "ExecuteTime": {
     "end_time": "2023-11-08T10:49:42.677720800Z",
     "start_time": "2023-11-08T10:49:42.501531800Z"
    }
   },
   "id": "1b0a95d35698f18f"
  }
 ],
 "metadata": {
  "kernelspec": {
   "display_name": "Python 3",
   "language": "python",
   "name": "python3"
  },
  "language_info": {
   "codemirror_mode": {
    "name": "ipython",
    "version": 2
   },
   "file_extension": ".py",
   "mimetype": "text/x-python",
   "name": "python",
   "nbconvert_exporter": "python",
   "pygments_lexer": "ipython2",
   "version": "2.7.6"
  }
 },
 "nbformat": 4,
 "nbformat_minor": 5
}
