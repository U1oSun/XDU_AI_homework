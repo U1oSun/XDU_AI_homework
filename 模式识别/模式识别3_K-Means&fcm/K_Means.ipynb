{
 "cells": [
  {
   "cell_type": "code",
   "execution_count": 1,
   "id": "initial_id",
   "metadata": {
    "collapsed": true,
    "ExecuteTime": {
     "end_time": "2023-11-22T11:09:59.912666800Z",
     "start_time": "2023-11-22T11:09:59.550056700Z"
    }
   },
   "outputs": [],
   "source": [
    "import numpy as np\n",
    "from sklearn.base import BaseEstimator, ClassifierMixin\n",
    "from sklearn import datasets, metrics\n",
    "from sklearn.metrics import accuracy_score\n",
    "import time\n",
    "import pandas as pd"
   ]
  },
  {
   "cell_type": "code",
   "execution_count": 2,
   "outputs": [],
   "source": [
    "# 定义 KMeans 类\n",
    "class KMeans(BaseEstimator, ClassifierMixin):\n",
    "    def __init__(self, k):\n",
    "        \"\"\"\n",
    "        KMeans 类的初始化函数\n",
    "\n",
    "        Parameters:\n",
    "        - k: 簇的数量\n",
    "\n",
    "        Attributes:\n",
    "        - k: 簇的数量\n",
    "        - x: 输入数据\n",
    "        - y: 标签数据（未使用）\n",
    "        - labels: 簇分配的标签\n",
    "        - centers: 簇中心\n",
    "        - iterations: 迭代次数，默认为500\n",
    "        \"\"\"\n",
    "        self.k = k\n",
    "        self.x = None\n",
    "        self.y = None\n",
    "        self.labels = None\n",
    "        self.centers = None\n",
    "        self.iterations = 500\n",
    "\n",
    "    def quick_L2(self, x, a):\n",
    "        \"\"\"\n",
    "        计算两组数据点之间的欧氏距离的平方\n",
    "    \n",
    "        Parameters:\n",
    "        - x: 第一组数据点\n",
    "        - a: 第二组数据点\n",
    "    \n",
    "        Returns:\n",
    "        - dis: 欧氏距离的平方\n",
    "        \"\"\"\n",
    "        # 计算两组数据点的内积\n",
    "        dis = -2 * np.dot(x, a.T)\n",
    "        \n",
    "        # 计算第一组数据点的平方和，使用einsum函数对元素进行逐个相乘并按行求和\n",
    "        dis += np.einsum('ij,ij->i', x, x)[:, np.newaxis]\n",
    "        \n",
    "        # 计算第二组数据点的平方和，使用einsum函数对元素进行逐个相乘并按行求和\n",
    "        dis += np.einsum('ij,ij->i', a, a)[np.newaxis, :]\n",
    "        \n",
    "        return dis\n",
    "\n",
    "\n",
    "    def fit(self, x, y=None, init_method='random_point', seed=None, eps=1e-5):\n",
    "        \"\"\"\n",
    "        拟合（训练）K均值模型\n",
    "\n",
    "        Parameters:\n",
    "        - x: 输入数据\n",
    "        - y: 标签数据（未使用）\n",
    "        - init_method: 初始化方法，'random_point'表示随机选择数据点作为初始簇中心，其他值表示使用随机数初始化\n",
    "        - seed: 随机数种子\n",
    "        - eps: 收敛阈值\n",
    "\n",
    "        Returns:\n",
    "        - None\n",
    "        \"\"\"\n",
    "        self.x = x\n",
    "        self.y = y\n",
    "        self.centers = 0\n",
    "\n",
    "        if seed is not None:\n",
    "            np.random.seed(seed)\n",
    "        if init_method == 'random_point':\n",
    "            # 随机选择数据点作为初始簇中心\n",
    "            self.centers = x[np.random.choice(x.shape[0], self.k), :]\n",
    "        else:\n",
    "            # 使用随机数初始化\n",
    "            self.centers = np.random.randint(np.min(x), np.max(x), (x.shape[0], self.k))\n",
    "\n",
    "        pre_centers = self.centers.copy()\n",
    "        for i in range(self.iterations):\n",
    "            # 计算欧氏距离\n",
    "            dis = self.quick_L2(self.x, self.centers)\n",
    "            # 分配数据点到最近的簇\n",
    "            idx = np.argmin(dis, axis=1)\n",
    "            # 更新簇中心\n",
    "            for j in range(self.centers.shape[0]):\n",
    "                self.centers[j, :] = np.mean(self.x[idx == j, :], axis=0)\n",
    "            # 判断是否收敛\n",
    "            if np.mean(np.abs(pre_centers - self.centers)) < eps:\n",
    "                break\n",
    "            pre_centers = self.centers.copy()\n",
    "\n",
    "    def predict(self, a=None):\n",
    "        \"\"\"\n",
    "        预测数据点属于哪个簇\n",
    "\n",
    "        Parameters:\n",
    "        - a: 输入数据，默认为训练数据\n",
    "\n",
    "        Returns:\n",
    "        - idx: 数据点所属的簇的标签\n",
    "        \"\"\"\n",
    "        if a is None:\n",
    "            a = self.x\n",
    "        dis = self.quick_L2(a, self.centers)\n",
    "        idx = np.argmin(dis, axis=1)\n",
    "        return idx"
   ],
   "metadata": {
    "collapsed": false,
    "ExecuteTime": {
     "end_time": "2023-11-22T11:09:59.929654300Z",
     "start_time": "2023-11-22T11:09:59.921666700Z"
    }
   },
   "id": "3be2dbe529db4f62"
  },
  {
   "cell_type": "code",
   "execution_count": 3,
   "outputs": [],
   "source": [
    "# 主程序\n",
    "if __name__ == '__main__':\n",
    "    # 加载鸢尾花数据集\n",
    "    iris = datasets.load_iris()\n",
    "    data = iris['data']\n",
    "    labels = iris['target']"
   ],
   "metadata": {
    "collapsed": false,
    "ExecuteTime": {
     "end_time": "2023-11-22T11:09:59.949655600Z",
     "start_time": "2023-11-22T11:09:59.931662700Z"
    }
   },
   "id": "3d6a8b6e6c6be78"
  },
  {
   "cell_type": "code",
   "execution_count": 3,
   "outputs": [],
   "source": [],
   "metadata": {
    "collapsed": false,
    "ExecuteTime": {
     "end_time": "2023-11-22T11:09:59.961655900Z",
     "start_time": "2023-11-22T11:09:59.945655700Z"
    }
   },
   "id": "975cf4bfabe6949e"
  },
  {
   "cell_type": "code",
   "execution_count": 4,
   "outputs": [
    {
     "name": "stdout",
     "output_type": "stream",
     "text": [
      "iris-predict:\n",
      "[2 2 2 2 2 2 2 2 2 2 2 2 2 2 2 2 2 2 2 2 2 2 2 2 2 2 2 2 2 2 2 2 2 2 2 2 2\n",
      " 2 2 2 2 2 2 2 2 2 2 2 2 2 0 0 1 0 0 0 0 0 0 0 0 0 0 0 0 0 0 0 0 0 0 0 0 0\n",
      " 0 0 0 1 0 0 0 0 0 0 0 0 0 0 0 0 0 0 0 0 0 0 0 0 0 0 1 0 1 1 1 1 0 1 1 1 1\n",
      " 1 1 0 0 1 1 1 1 0 1 0 1 0 1 1 0 0 1 1 1 1 1 0 1 1 1 1 0 1 1 1 0 1 1 1 0 1\n",
      " 1 0]\n"
     ]
    }
   ],
   "source": [
    "    t = time.perf_counter()\n",
    "    # 创建 KMeans 类的实例，设置簇的数量为3\n",
    "    kmeans = KMeans(k=3)\n",
    "\n",
    "    # 拟合模型\n",
    "    kmeans.fit(data)\n",
    "\n",
    "    # 预测数据点所属的簇\n",
    "    res = kmeans.predict()\n",
    "\n",
    "    # 打印预测结果和执行时间\n",
    "    print('iris-predict:')\n",
    "    print(res)"
   ],
   "metadata": {
    "collapsed": false,
    "ExecuteTime": {
     "end_time": "2023-11-22T11:10:00.021658700Z",
     "start_time": "2023-11-22T11:09:59.962666800Z"
    }
   },
   "id": "416faa680f04b6a7"
  },
  {
   "cell_type": "raw",
   "source": [],
   "metadata": {
    "collapsed": false
   },
   "id": "33b693e39798af5f"
  },
  {
   "cell_type": "code",
   "execution_count": 5,
   "outputs": [
    {
     "name": "stdout",
     "output_type": "stream",
     "text": [
      "Adjusted Rand Index (ARI) in iris:  0.7302382722834697\n"
     ]
    }
   ],
   "source": [
    "    from sklearn.metrics import adjusted_rand_score\n",
    "    ari = adjusted_rand_score(labels, res)\n",
    "    print('Adjusted Rand Index (ARI) in iris: ', ari)"
   ],
   "metadata": {
    "collapsed": false,
    "ExecuteTime": {
     "end_time": "2023-11-22T11:10:00.035666600Z",
     "start_time": "2023-11-22T11:09:59.978655300Z"
    }
   },
   "id": "b55eda5840c1c1ba"
  },
  {
   "cell_type": "code",
   "execution_count": 6,
   "outputs": [
    {
     "name": "stdout",
     "output_type": "stream",
     "text": [
      "iris-SC指标: 0.5528190123564095\n"
     ]
    }
   ],
   "source": [
    "    print('iris-SC指标: ' + str(metrics.silhouette_score(data, res, metric='euclidean')))"
   ],
   "metadata": {
    "collapsed": false,
    "ExecuteTime": {
     "end_time": "2023-11-22T11:10:00.036667Z",
     "start_time": "2023-11-22T11:09:59.994666900Z"
    }
   },
   "id": "2648872e041f455f"
  },
  {
   "cell_type": "code",
   "execution_count": 7,
   "outputs": [],
   "source": [
    "    # 读取名为 'sonar.all-data.csv' 的 CSV 文件，无表头，使用逗号作为分隔符\n",
    "    sonar = pd.read_csv('sonar.all-data.csv', header=None, sep=',')\n",
    "    \n",
    "    # 从 sonar 数据中选择前 208 行和前 60 列的子集，存储为 sonar1\n",
    "    sonar1 = sonar.iloc[0:208, 0:60]\n",
    "    \n",
    "    # 将 sonar1 转换为 NumPy 数组\n",
    "    data2 = np.array(sonar1)\n",
    "    \n",
    "    # 创建 labels2 数组，其中 R 类别对应标签值为 1，M 类别对应标签值为 0\n",
    "    labels2 = np.zeros(208)\n",
    "    labels2[sonar.iloc[:, 60] == 'R'] = 1"
   ],
   "metadata": {
    "collapsed": false,
    "ExecuteTime": {
     "end_time": "2023-11-22T11:10:00.052654400Z",
     "start_time": "2023-11-22T11:10:00.011659500Z"
    }
   },
   "id": "609af5c8287d9b9c"
  },
  {
   "cell_type": "code",
   "execution_count": 8,
   "outputs": [
    {
     "data": {
      "text/plain": "array([1., 1., 1., 1., 1., 1., 1., 1., 1., 1., 1., 1., 1., 1., 1., 1., 1.,\n       1., 1., 1., 1., 1., 1., 1., 1., 1., 1., 1., 1., 1., 1., 1., 1., 1.,\n       1., 1., 1., 1., 1., 1., 1., 1., 1., 1., 1., 1., 1., 1., 1., 1., 1.,\n       1., 1., 1., 1., 1., 1., 1., 1., 1., 1., 1., 1., 1., 1., 1., 1., 1.,\n       1., 1., 1., 1., 1., 1., 1., 1., 1., 1., 1., 1., 1., 1., 1., 1., 1.,\n       1., 1., 1., 1., 1., 1., 1., 1., 1., 1., 1., 1., 0., 0., 0., 0., 0.,\n       0., 0., 0., 0., 0., 0., 0., 0., 0., 0., 0., 0., 0., 0., 0., 0., 0.,\n       0., 0., 0., 0., 0., 0., 0., 0., 0., 0., 0., 0., 0., 0., 0., 0., 0.,\n       0., 0., 0., 0., 0., 0., 0., 0., 0., 0., 0., 0., 0., 0., 0., 0., 0.,\n       0., 0., 0., 0., 0., 0., 0., 0., 0., 0., 0., 0., 0., 0., 0., 0., 0.,\n       0., 0., 0., 0., 0., 0., 0., 0., 0., 0., 0., 0., 0., 0., 0., 0., 0.,\n       0., 0., 0., 0., 0., 0., 0., 0., 0., 0., 0., 0., 0., 0., 0., 0., 0.,\n       0., 0., 0., 0.])"
     },
     "execution_count": 8,
     "metadata": {},
     "output_type": "execute_result"
    }
   ],
   "source": [
    "    labels2"
   ],
   "metadata": {
    "collapsed": false,
    "ExecuteTime": {
     "end_time": "2023-11-22T11:10:00.117666700Z",
     "start_time": "2023-11-22T11:10:00.042658Z"
    }
   },
   "id": "f63dc11603ceab65"
  },
  {
   "cell_type": "code",
   "execution_count": 9,
   "outputs": [
    {
     "name": "stdout",
     "output_type": "stream",
     "text": [
      "sonar-predict:\n",
      "[0 1 1 0 1 1 1 1 1 0 0 0 1 0 0 0 0 1 0 1 0 0 0 0 0 0 1 1 1 1 0 1 1 1 1 1 0\n",
      " 0 0 0 0 0 0 0 0 1 1 0 0 0 0 0 0 0 0 0 0 0 0 0 0 0 0 0 0 0 0 0 0 0 0 0 0 0\n",
      " 1 1 1 1 1 1 1 1 1 1 1 1 1 1 1 1 1 0 0 0 0 0 0 0 0 0 1 1 1 1 1 1 1 1 1 1 1\n",
      " 1 1 1 1 1 1 1 1 1 1 1 1 1 1 1 1 1 1 1 1 0 0 0 0 0 0 1 0 0 0 0 0 0 0 0 0 1\n",
      " 1 1 1 1 1 1 1 1 0 0 0 0 0 0 0 1 0 1 0 0 0 0 0 1 0 1 1 1 1 0 0 0 1 0 0 0 1\n",
      " 1 0 0 0 0 0 0 0 0 0 1 1 1 1 1 1 1 0 0 0 0 0 0]\n"
     ]
    }
   ],
   "source": [
    "    # 创建 KMeans 对象 kmeans2，设置簇的数量为 2\n",
    "    kmeans2 = KMeans(k=2)\n",
    "    \n",
    "    # 拟合模型，使用前 208 行 60 列的数据\n",
    "    kmeans2.fit(data2)\n",
    "    \n",
    "    # 预测数据点所属的簇\n",
    "    res2 = kmeans2.predict()\n",
    "    \n",
    "    # 打印预测结果\n",
    "    print('sonar-predict:')\n",
    "    print(res2)"
   ],
   "metadata": {
    "collapsed": false,
    "ExecuteTime": {
     "end_time": "2023-11-22T11:10:00.136666800Z",
     "start_time": "2023-11-22T11:10:00.058653400Z"
    }
   },
   "id": "360403470c3f9b8f"
  },
  {
   "cell_type": "code",
   "execution_count": 10,
   "outputs": [
    {
     "name": "stdout",
     "output_type": "stream",
     "text": [
      "Adjusted Rand Index (ARI) in sonar:  0.010869872549936507\n"
     ]
    }
   ],
   "source": [
    "    ari2 = adjusted_rand_score(labels2, res2)\n",
    "    print('Adjusted Rand Index (ARI) in sonar: ', ari2)"
   ],
   "metadata": {
    "collapsed": false,
    "ExecuteTime": {
     "end_time": "2023-11-22T11:10:00.137666700Z",
     "start_time": "2023-11-22T11:10:00.073660800Z"
    }
   },
   "id": "ab1de08c8889a8f"
  },
  {
   "cell_type": "code",
   "execution_count": 11,
   "outputs": [
    {
     "name": "stdout",
     "output_type": "stream",
     "text": [
      "sonar-SC指标: 0.19896316739419573\n"
     ]
    }
   ],
   "source": [
    "    # 计算并打印 SC（轮廓系数）指标，使用欧氏距离作为度量方式\n",
    "    print('sonar-SC指标: ' + str(metrics.silhouette_score(data2, res2, metric='euclidean')))"
   ],
   "metadata": {
    "collapsed": false,
    "ExecuteTime": {
     "end_time": "2023-11-22T11:10:00.137666700Z",
     "start_time": "2023-11-22T11:10:00.091656400Z"
    }
   },
   "id": "7b020b02a496c8b8"
  }
 ],
 "metadata": {
  "kernelspec": {
   "display_name": "Python 3",
   "language": "python",
   "name": "python3"
  },
  "language_info": {
   "codemirror_mode": {
    "name": "ipython",
    "version": 2
   },
   "file_extension": ".py",
   "mimetype": "text/x-python",
   "name": "python",
   "nbconvert_exporter": "python",
   "pygments_lexer": "ipython2",
   "version": "2.7.6"
  }
 },
 "nbformat": 4,
 "nbformat_minor": 5
}
