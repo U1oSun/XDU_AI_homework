{
 "cells": [
  {
   "cell_type": "code",
   "execution_count": 1,
   "id": "initial_id",
   "metadata": {
    "collapsed": true,
    "ExecuteTime": {
     "end_time": "2023-11-22T11:09:38.235599800Z",
     "start_time": "2023-11-22T11:09:37.686842100Z"
    }
   },
   "outputs": [],
   "source": [
    "import numpy as np\n",
    "from sklearn.base import BaseEstimator, ClassifierMixin\n",
    "from scipy.spatial.distance import cdist\n",
    "from sklearn import datasets, metrics\n",
    "import pandas as pd\n",
    "from sklearn.metrics import adjusted_rand_score\n",
    "from sklearn.metrics import accuracy_score"
   ]
  },
  {
   "cell_type": "code",
   "execution_count": 2,
   "outputs": [],
   "source": [
    "# 定义模糊C均值（FCM）类\n",
    "class FCM(BaseEstimator, ClassifierMixin):\n",
    "    def __init__(self, k, alpha=2):\n",
    "        \"\"\"\n",
    "        FCM 类的初始化函数\n",
    "\n",
    "        Parameters:\n",
    "        - k: 簇的数量\n",
    "        - alpha: 模糊因子，控制隶属度的模糊程度，默认为2\n",
    "        \"\"\"\n",
    "        # method=2 => use L2 distance\n",
    "        self.k = k\n",
    "        self.alpha = alpha\n",
    "        self.x = None\n",
    "        self.y = None\n",
    "        self.labels = None\n",
    "        self.centers = None\n",
    "        self.u = None  # 隶属度矩阵\n",
    "        self.iterations = 500\n",
    "\n",
    "    def quick_L2(self, x, a):\n",
    "        \"\"\"\n",
    "        计算两组数据点之间的欧氏距离的平方\n",
    "\n",
    "        Parameters:\n",
    "        - x: 第一组数据点\n",
    "        - a: 第二组数据点\n",
    "\n",
    "        Returns:\n",
    "        - dis: 欧氏距离的平方\n",
    "        \"\"\"\n",
    "        dis = -2 * np.dot(x, a.T)\n",
    "        dis += np.einsum('ij,ij->i', x, x)[:, np.newaxis]\n",
    "        dis += np.einsum('ij,ij->i', a, a)[np.newaxis, :]\n",
    "        return dis\n",
    "\n",
    "    def fit(self, x, y=None, init_method='u', seed=None, eps=1e-5):\n",
    "        \"\"\"\n",
    "        拟合（训练）模糊C均值（FCM）模型\n",
    "\n",
    "        Parameters:\n",
    "        - x: 输入数据\n",
    "        - y: 标签数据（未使用）\n",
    "        - init_method: 初始化方法，'u'表示使用随机生成的隶属度矩阵，其他值（暂未实现）\n",
    "        - seed: 随机数种子\n",
    "        - eps: 收敛阈值\n",
    "\n",
    "        Returns:\n",
    "        - None\n",
    "        \"\"\"\n",
    "        self.x = x\n",
    "        self.y = y\n",
    "\n",
    "        if seed is not None:\n",
    "            np.random.seed(seed)\n",
    "\n",
    "        if init_method == 'u':\n",
    "            # 随机生成隶属度矩阵，每个数据点对每个簇的隶属度，随机生成并归一化\n",
    "            self.u = np.random.rand(self.x.shape[0], self.k)\n",
    "            self.u /= np.sum(self.u, axis=1)[:, np.newaxis]\n",
    "        else:\n",
    "            pass  # 其他初始化方法待实现\n",
    "\n",
    "        pre_J = 0  # 上一次迭代的目标函数值\n",
    "        for i in range(self.iterations):\n",
    "            # 计算隶属度矩阵的模糊化\n",
    "            u_a = self.u ** self.alpha  # u_{ij}^{\\alpha}\n",
    "\n",
    "            # 更新簇中心\n",
    "            self.centers = np.dot(self.u.T, self.x) / np.sum(self.u, axis=0)[:, np.newaxis]\n",
    "\n",
    "            # 计算欧氏距离\n",
    "            dis = self.quick_L2(self.x, self.centers)\n",
    "\n",
    "            # 计算目标函数值\n",
    "            J = np.sum(u_a * dis)\n",
    "\n",
    "            # 判断是否收敛\n",
    "            if abs(J - pre_J) < eps:\n",
    "                return\n",
    "\n",
    "            # 更新隶属度矩阵\n",
    "            e = 1 / (self.alpha - 1 + eps * 100)\n",
    "            self.u = 1 / ((dis ** e) * np.sum(dis ** (-e), axis=1)[:, np.newaxis])\n",
    "\n",
    "            # 更新上一次的目标函数值\n",
    "            pre_J = J\n",
    "\n",
    "    def predict(self):\n",
    "        \"\"\"\n",
    "        预测数据点所属的簇\n",
    "\n",
    "        Returns:\n",
    "        - predictions: 数据点所属的簇的标签\n",
    "        \"\"\"\n",
    "        return np.argmax(self.u, axis=1)"
   ],
   "metadata": {
    "collapsed": false,
    "ExecuteTime": {
     "end_time": "2023-11-22T11:09:38.279600300Z",
     "start_time": "2023-11-22T11:09:38.243599700Z"
    }
   },
   "id": "9f5d506dc095fb81"
  },
  {
   "cell_type": "code",
   "execution_count": 3,
   "outputs": [],
   "source": [
    "# 主程序\n",
    "if __name__ == '__main__':\n",
    "    # 加载鸢尾花数据集\n",
    "    iris = datasets.load_iris()\n",
    "    data = iris['data']\n",
    "    labels = iris['target']"
   ],
   "metadata": {
    "collapsed": false,
    "ExecuteTime": {
     "end_time": "2023-11-22T11:09:38.280600600Z",
     "start_time": "2023-11-22T11:09:38.267604200Z"
    }
   },
   "id": "ad63e204fbc9f9c6"
  },
  {
   "cell_type": "code",
   "execution_count": 4,
   "outputs": [
    {
     "name": "stdout",
     "output_type": "stream",
     "text": [
      "FCM:\n",
      "iris-predict:\n",
      "[0 0 0 0 0 0 0 0 0 0 0 0 0 0 0 0 0 0 0 0 0 0 0 0 0 0 0 0 0 0 0 0 0 0 0 0 0\n",
      " 0 0 0 0 0 0 0 0 0 0 0 0 0 2 1 2 1 1 1 1 1 1 1 1 1 1 1 1 1 1 1 1 1 1 1 1 1\n",
      " 1 1 2 2 1 1 1 1 1 2 1 1 2 1 1 1 1 1 1 1 1 1 1 1 0 1 2 2 2 2 2 2 1 2 2 2 2\n",
      " 2 2 1 2 2 2 2 2 1 2 1 2 2 2 2 1 2 2 2 2 2 2 2 2 2 2 2 1 2 2 2 2 2 2 2 2 2\n",
      " 2 2]\n"
     ]
    }
   ],
   "source": [
    "    print('FCM:')\n",
    "    fcm = FCM(k=3)\n",
    "    fcm.fit(data)\n",
    "    res = fcm.predict()\n",
    "    print('iris-predict:')\n",
    "    print(res)"
   ],
   "metadata": {
    "collapsed": false,
    "ExecuteTime": {
     "end_time": "2023-11-22T11:09:38.355599500Z",
     "start_time": "2023-11-22T11:09:38.281601300Z"
    }
   },
   "id": "511420661c100f90"
  },
  {
   "cell_type": "code",
   "execution_count": 5,
   "outputs": [
    {
     "name": "stdout",
     "output_type": "stream",
     "text": [
      "Adjusted Rand Index (ARI) in iris:  0.7683058726537342\n"
     ]
    }
   ],
   "source": [
    "    ari = adjusted_rand_score(labels, res)\n",
    "    print('Adjusted Rand Index (ARI) in iris: ', ari)"
   ],
   "metadata": {
    "collapsed": false,
    "ExecuteTime": {
     "end_time": "2023-11-22T11:09:38.369599800Z",
     "start_time": "2023-11-22T11:09:38.313588500Z"
    }
   },
   "id": "356c61e96cfbc17a"
  },
  {
   "cell_type": "code",
   "execution_count": 6,
   "outputs": [
    {
     "name": "stdout",
     "output_type": "stream",
     "text": [
      "iris-SC指标: 0.5209590632921908\n"
     ]
    }
   ],
   "source": [
    "    print('iris-SC指标: ' + str(metrics.silhouette_score(data, res, metric='euclidean')))"
   ],
   "metadata": {
    "collapsed": false,
    "ExecuteTime": {
     "end_time": "2023-11-22T11:09:38.369599800Z",
     "start_time": "2023-11-22T11:09:38.329600600Z"
    }
   },
   "id": "2efbc350ed315f5a"
  },
  {
   "cell_type": "code",
   "execution_count": 7,
   "outputs": [],
   "source": [
    "    sonar = pd.read_csv('sonar.all-data.csv', header=None, sep=',')\n",
    "    sonar1 = sonar.iloc[0:208, 0:60]\n",
    "    data2 = np.array(sonar1)\n",
    "    labels2 = np.zeros(208)\n",
    "    labels2[sonar.iloc[:, 60] == 'R'] = 1"
   ],
   "metadata": {
    "collapsed": false,
    "ExecuteTime": {
     "end_time": "2023-11-22T11:09:38.386600100Z",
     "start_time": "2023-11-22T11:09:38.345590800Z"
    }
   },
   "id": "8d392d195d66e1ed"
  },
  {
   "cell_type": "code",
   "execution_count": 8,
   "outputs": [
    {
     "name": "stdout",
     "output_type": "stream",
     "text": [
      "sonar-predict:\n",
      "[1 0 0 1 0 0 0 0 0 0 1 0 0 1 1 1 1 0 1 0 1 1 1 1 1 1 0 0 0 0 0 0 0 0 0 0 1\n",
      " 1 1 1 1 1 1 1 1 0 0 1 1 1 1 1 0 1 1 1 1 1 1 1 1 1 1 1 1 1 1 1 1 1 1 1 1 1\n",
      " 0 0 0 0 0 0 0 0 0 0 0 0 0 0 0 0 0 1 1 1 1 1 1 1 1 1 0 0 0 0 0 0 0 0 0 0 0\n",
      " 0 0 0 0 0 0 0 0 0 0 0 0 0 0 0 0 0 0 0 0 1 1 1 1 1 1 0 1 1 1 1 1 1 1 1 1 0\n",
      " 0 0 0 0 0 0 0 0 1 1 1 1 1 1 1 0 1 0 1 1 1 1 1 0 1 0 0 0 0 0 1 1 0 1 1 1 0\n",
      " 0 1 1 1 1 1 1 1 1 1 0 0 0 0 0 0 0 1 1 1 1 0 0]\n"
     ]
    }
   ],
   "source": [
    "    fcm2 = FCM(k=2)\n",
    "    fcm2.fit(data2)\n",
    "    res2 = fcm2.predict()\n",
    "    print('sonar-predict:')\n",
    "    print(res2)"
   ],
   "metadata": {
    "collapsed": false,
    "ExecuteTime": {
     "end_time": "2023-11-22T11:09:38.466225600Z",
     "start_time": "2023-11-22T11:09:38.378600200Z"
    }
   },
   "id": "a3acc3f7d5ce1ae6"
  },
  {
   "cell_type": "code",
   "execution_count": 9,
   "outputs": [
    {
     "name": "stdout",
     "output_type": "stream",
     "text": [
      "Adjusted Rand Index (ARI) in sonar:  0.008545699314580773\n"
     ]
    }
   ],
   "source": [
    "    ari2 = adjusted_rand_score(labels2, res2)\n",
    "    print('Adjusted Rand Index (ARI) in sonar: ', ari2)"
   ],
   "metadata": {
    "collapsed": false,
    "ExecuteTime": {
     "end_time": "2023-11-22T11:09:38.479226200Z",
     "start_time": "2023-11-22T11:09:38.392588300Z"
    }
   },
   "id": "8b463f7935b87ed2"
  },
  {
   "cell_type": "code",
   "execution_count": 10,
   "outputs": [
    {
     "name": "stdout",
     "output_type": "stream",
     "text": [
      "sonar-SC指标: 0.19554404245764484\n"
     ]
    }
   ],
   "source": [
    "    print('sonar-SC指标: ' + str(metrics.silhouette_score(data2, res2, metric='euclidean')))"
   ],
   "metadata": {
    "collapsed": false,
    "ExecuteTime": {
     "end_time": "2023-11-22T11:09:38.480226600Z",
     "start_time": "2023-11-22T11:09:38.408213800Z"
    }
   },
   "id": "8afbeaa5a38321fd"
  }
 ],
 "metadata": {
  "kernelspec": {
   "display_name": "Python 3",
   "language": "python",
   "name": "python3"
  },
  "language_info": {
   "codemirror_mode": {
    "name": "ipython",
    "version": 2
   },
   "file_extension": ".py",
   "mimetype": "text/x-python",
   "name": "python",
   "nbconvert_exporter": "python",
   "pygments_lexer": "ipython2",
   "version": "2.7.6"
  }
 },
 "nbformat": 4,
 "nbformat_minor": 5
}
